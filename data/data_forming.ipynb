{
 "cells": [
  {
   "cell_type": "code",
   "execution_count": 7,
   "metadata": {},
   "outputs": [
    {
     "name": "stdout",
     "output_type": "stream",
     "text": [
      "RULE_mainq_AMR-LDA.jsonl\n",
      "RULE_mainq_AMR-LDA_options.jsonl\n"
     ]
    }
   ],
   "source": [
    "import json \n",
    "import pandas as pd\n",
    "\n",
    "def load_jsonl(file_path):\n",
    "    return pd.read_json(file_path, lines=True)\n",
    "\n",
    "def answers_to_string(answers) -> str:\n",
    "    answer_str = \"\"\n",
    "    ordering = ['A', 'B', 'C', 'D', 'E', 'F', 'G', 'H', 'I', 'J']\n",
    "    for a, answer in enumerate(answers):\n",
    "        while type(answer) == tuple:\n",
    "            answer = answer[0]\n",
    "        answer_str += f\"・{answer} ({ordering[a]})\\n\"\n",
    "    return answer_str\n",
    "\n",
    "MCQA_question_template = '<Passage>: {passage}\\n<Question>: {question}\\n{option_string}\\n\\nWhat is the correct answer?'\n",
    "option_question_template = '<Passage>: {passage}\\n<Question>: {question}\\n{option_string}\\n\\nIs option \"・{target_option}\" the correct answer?'\n",
    "\n",
    "\n",
    "def build_ecfinetuning_dataset_EM(dset):\n",
    "    result_dict = {\n",
    "        \"train\": [],\n",
    "        \"valid\": [],\n",
    "        \"test\": []\n",
    "    }\n",
    "\n",
    "    for dtype in dset.keys():\n",
    "        if len(dset[dtype]) != 0:\n",
    "            for file_name in dset[dtype]:\n",
    "                print(file_name)\n",
    "                data = load_jsonl(file_name)\n",
    "                \n",
    "                for row in data.iterrows():\n",
    "                    row = row[1]\n",
    "                    id_string = row['id_string']\n",
    "                    passage = row['context']\n",
    "                    question = row['question']\n",
    "                    option_string = answers_to_string(row['answers'])\n",
    "                    \n",
    "                    if \"RULE\" in file_name or \"ReClor\" in file_name or \"logiqa\" in file_name:\n",
    "                        option_template = option_question_template\n",
    "                        mcqa_template = MCQA_question_template\n",
    "                    \n",
    "                    if 'option' in file_name:\n",
    "                        target_option = f\"{row['target_option_string']}\"\n",
    "                        label = 'yes.' if row['target_option_correctness'] else 'no.'\n",
    "                        answer_sentence = row['answers'][ord(row['label'])-ord('A')]\n",
    "                        \n",
    "                        input_string = option_template.format(passage=passage, question=question, option_string=option_string, target_option=target_option)\n",
    "                        result_dict[dtype].append({\n",
    "                            \"qid\": id_string,\n",
    "                            \"question\": input_string,\n",
    "                            \"answer\": label,\n",
    "                            \"answer_sentence\": row['target_option_string'],\n",
    "                            \"explanation\": None\n",
    "                        })\n",
    "                    else:\n",
    "                        input_string = mcqa_template.format(passage=passage, question=question, option_string=option_string)\n",
    "                        label = row['label']\n",
    "                        answer_sentence = row['answers'][ord(row['label'])-ord('A')]\n",
    "                        \n",
    "                        result_dict[dtype].append({\n",
    "                            \"qid\": id_string,\n",
    "                            \"question\": input_string,\n",
    "                            \"answer\": label,\n",
    "                            \"answer_sentence\": answer_sentence,\n",
    "                            \"explanation\": None\n",
    "                        })\n",
    "\n",
    "    return result_dict"
   ]
  },
  {
   "cell_type": "code",
   "execution_count": null,
   "metadata": {},
   "outputs": [],
   "source": [
    "setting_datas = {\n",
    "    'train': []\n",
    "    ,'valid': []\n",
    "    ,'test': ['RULE_mainq_AMR-LDA.jsonl', 'RULE_mainq_AMR-LDA_options.jsonl']\n",
    "}\n",
    "\n",
    "setting_result = build_ecfinetuning_dataset_EM(setting_datas)\n",
    "\n",
    "name = 'setting_test_reclor_AMR-LDA'\n",
    "# 저장\n",
    "for dtype in setting_result.keys():\n",
    "    with open(f'{name}.json', 'w') as f:\n",
    "        json.dump(setting_result, f, indent=4)"
   ]
  }
 ],
 "metadata": {
  "kernelspec": {
   "display_name": "reclor",
   "language": "python",
   "name": "python3"
  },
  "language_info": {
   "codemirror_mode": {
    "name": "ipython",
    "version": 3
   },
   "file_extension": ".py",
   "mimetype": "text/x-python",
   "name": "python",
   "nbconvert_exporter": "python",
   "pygments_lexer": "ipython3",
   "version": "3.12.2"
  }
 },
 "nbformat": 4,
 "nbformat_minor": 2
}
