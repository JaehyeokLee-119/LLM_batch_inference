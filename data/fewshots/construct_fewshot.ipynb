{
 "cells": [
  {
   "cell_type": "code",
   "execution_count": 25,
   "metadata": {},
   "outputs": [],
   "source": [
    "import pandas as pd \n",
    "import json \n",
    "import random"
   ]
  },
  {
   "cell_type": "code",
   "execution_count": 28,
   "metadata": {},
   "outputs": [],
   "source": [
    "# Few-shot 샘플 생성 위한 코드\n",
    "\n",
    "# 타겟 데이터셋\n",
    "fname = 'setting2_2.json'\n",
    "fdata = json.load(open(f'{fname}'))\n",
    "\n",
    "# 샘플 데이터셋 생성\n",
    "foldername = 'ReClor_4shot'\n",
    "import os \n",
    "if not os.path.exists(foldername):\n",
    "    os.makedirs(foldername)\n",
    "\n",
    "# Option Question과 MCQA Question을 가르는 기준\n",
    "def answer_if_yes_or_no(answer):\n",
    "    if 'yes' in answer or 'no' in answer:\n",
    "        return True\n",
    "    else:\n",
    "        return False\n",
    "\n",
    "# Train 데이터로부터 Option Question과 MCQA Question 추출\n",
    "tdata_MCQA = [x for x in fdata['train'] if not answer_if_yes_or_no(x['answer'])]\n",
    "tdata_option = [x for x in fdata['train'] if answer_if_yes_or_no(x['answer'])]"
   ]
  },
  {
   "cell_type": "code",
   "execution_count": 29,
   "metadata": {},
   "outputs": [
    {
     "name": "stdout",
     "output_type": "stream",
     "text": [
      "MCQA answer\n",
      "(B)    2\n",
      "(A)    1\n",
      "(D)    1\n",
      "Name: count, dtype: int64\n",
      "Option answer\n",
      "no.     2\n",
      "yes.    2\n",
      "Name: count, dtype: int64\n"
     ]
    }
   ],
   "source": [
    "# ReClor에 있는 샘플 4개씩 샘플 (R 4개 O 4개)\n",
    "random.seed(42)\n",
    "tdata_MCQA_sample = random.sample(tdata_MCQA, 4)\n",
    "random.seed(44)\n",
    "tdata_option_sample = random.sample(tdata_option, 4)\n",
    "\n",
    "# tdata_MCQA_sample의 ['answer'] 값 개수 분포 확인\n",
    "import pandas as pd\n",
    "mcqa_sample_df = pd.DataFrame(tdata_MCQA_sample)\n",
    "\n",
    "print(\"MCQA\", mcqa_sample_df['answer'].value_counts())\n",
    "\n",
    "# tdata_option_sample의 ['answer'] 값 개수 분포 확인\n",
    "option_sample_df = pd.DataFrame(tdata_option_sample)\n",
    "print(\"Option\",option_sample_df['answer'].value_counts())\n",
    "\n",
    "mcqa_fname = f'{foldername}/MCQA_fewshot.json'\n",
    "option_fname = f'{foldername}/Option_fewshot.json'\n",
    "\n",
    "# 샘플 데이터셋 저장\n",
    "with open(mcqa_fname, 'w') as f:\n",
    "    json.dump(tdata_MCQA_sample, f, indent=4)\n",
    "\n",
    "with open(option_fname, 'w') as f:\n",
    "    json.dump(tdata_option_sample, f, indent=4)"
   ]
  },
  {
   "cell_type": "code",
   "execution_count": null,
   "metadata": {},
   "outputs": [],
   "source": []
  },
  {
   "cell_type": "code",
   "execution_count": 12,
   "metadata": {},
   "outputs": [
    {
     "ename": "NameError",
     "evalue": "name 'tdata_MCQA_sample' is not defined",
     "output_type": "error",
     "traceback": [
      "\u001b[0;31m---------------------------------------------------------------------------\u001b[0m",
      "\u001b[0;31mNameError\u001b[0m                                 Traceback (most recent call last)",
      "Cell \u001b[0;32mIn[12], line 5\u001b[0m\n\u001b[1;32m      3\u001b[0m fname_output \u001b[38;5;241m=\u001b[39m \u001b[38;5;124mf\u001b[39m\u001b[38;5;124m'\u001b[39m\u001b[38;5;132;01m{\u001b[39;00moutput_folder\u001b[38;5;132;01m}\u001b[39;00m\u001b[38;5;124msetting2_EM_test_MCQA.json\u001b[39m\u001b[38;5;124m'\u001b[39m\n\u001b[1;32m      4\u001b[0m \u001b[38;5;28;01mwith\u001b[39;00m \u001b[38;5;28mopen\u001b[39m(fname_output, \u001b[38;5;124m'\u001b[39m\u001b[38;5;124mw\u001b[39m\u001b[38;5;124m'\u001b[39m) \u001b[38;5;28;01mas\u001b[39;00m f:\n\u001b[0;32m----> 5\u001b[0m     json\u001b[38;5;241m.\u001b[39mdump(\u001b[43mtdata_MCQA_sample\u001b[49m, f, indent\u001b[38;5;241m=\u001b[39m\u001b[38;5;241m4\u001b[39m)\n\u001b[1;32m      7\u001b[0m \u001b[38;5;66;03m# tdata_option_sample json 저장\u001b[39;00m\n\u001b[1;32m      8\u001b[0m fname_output \u001b[38;5;241m=\u001b[39m \u001b[38;5;124mf\u001b[39m\u001b[38;5;124m'\u001b[39m\u001b[38;5;132;01m{\u001b[39;00moutput_folder\u001b[38;5;132;01m}\u001b[39;00m\u001b[38;5;124msetting2_EM_test_option.json\u001b[39m\u001b[38;5;124m'\u001b[39m\n",
      "\u001b[0;31mNameError\u001b[0m: name 'tdata_MCQA_sample' is not defined"
     ]
    }
   ],
   "source": [
    "output_folder = ''\n",
    "# tdata_MCQA_sample json 저장\n",
    "fname_output = f'{output_folder}setting2_EM_test_MCQA.json'\n",
    "with open(fname_output, 'w') as f:\n",
    "    json.dump(tdata_MCQA_sample, f, indent=4)\n",
    "\n",
    "# tdata_option_sample json 저장\n",
    "fname_output = f'{output_folder}setting2_EM_test_option.json'\n",
    "with open(fname_output, 'w') as f:\n",
    "    json.dump(tdata_option_sample, f, indent=4)\n",
    "    "
   ]
  },
  {
   "cell_type": "code",
   "execution_count": 20,
   "metadata": {},
   "outputs": [
    {
     "data": {
      "text/plain": [
       "\"[INST] <<SYS>>\\nI will ask you a question. Answer to the question.\\n<</SYS>>\\n\\n<Passage>: In rheumatoid arthritis, the body' s immune system misfunctions by attacking healthy cells in the joints causing the release of a hormone that in turn causes pain and swelling. This hormone is normally activated only in reaction to injury or infection. A new arthritis medication will contain a protein that inhibits the functioning of the hormone that causes pain and swelling in the joints.\\n<Question>: The statements above, if true, most strongly support which one of the following conclusions?\\nChoose the correct answer from the following options.\\n・ Unlike aspirin and other medications that reduce pain and swelling and that are currently available, the new medication would repair existing cell damage that had been caused by rheumatoid arthritis.\\n・ A patient treated with the new medication for rheumatoid arthritis could sustain a joint injury without becoming aware of it.\\n・ Joint diseases other than rheumatoid arthritis would not be affected by the new medication.\\n・ The benefits to rheumatoid arthritis sufferers of the new medication would outweigh the medication's possible harmful side effects.\\n\\n\\nWhat is the correct answer?  [/INST]\""
      ]
     },
     "execution_count": 20,
     "metadata": {},
     "output_type": "execute_result"
    }
   ],
   "source": [
    "def convert_llama2_prompt_format(system_prompt, user_prompt, delimiter=\"\", system_response=None):\n",
    "    system_prompt = system_prompt.strip()\n",
    "    user_prompt = user_prompt.strip()\n",
    "    if system_response is not None:\n",
    "        system_response = system_response.strip()\n",
    "    assert not any([tag in system_prompt for tag in SPECIAL_TAGS])\n",
    "    assert not any([tag in user_prompt for tag in SPECIAL_TAGS])\n",
    "    prompt = f\"{B_INST} {(B_SYS + system_prompt + E_SYS + user_prompt).strip()} {delimiter} {E_INST}\"\n",
    "    if system_response is None:\n",
    "        return prompt\n",
    "    else:\n",
    "        return prompt + ' ' + system_response\n",
    "    \n",
    "B_INST, E_INST = \"[INST]\", \"[/INST]\"\n",
    "B_SYS, E_SYS = \"<<SYS>>\\n\", \"\\n<</SYS>>\\n\\n\"\n",
    "\n",
    "SPECIAL_TAGS = [B_INST, E_INST, \"<<SYS>>\", \"<</SYS>>\"]\n",
    "UNSAFE_ERROR = \"Error: special tags are not allowed as part of the prompt.\"\n",
    "\n",
    "system_prompt = f'I will ask you a question. Answer to the question.'\n",
    "options = \"\"\n",
    "# return input/input&output\n",
    "delimiter = f\"{options}\"\n",
    "user_prompt = tdata_MCQA[0]['question']\n",
    "input_string = convert_llama2_prompt_format(system_prompt, user_prompt, delimiter=delimiter)\n",
    "input_string"
   ]
  },
  {
   "cell_type": "code",
   "execution_count": 7,
   "metadata": {},
   "outputs": [],
   "source": [
    "import json \n",
    "\n",
    "# ReClor에 있는 샘플 4개씩 사용함 (R 4개 O 4개)\n",
    "train_fname = 'label_train/setting3_EM.json'\n",
    "train_fdata = json.load(open(f'{train_fname}'))"
   ]
  },
  {
   "cell_type": "code",
   "execution_count": 10,
   "metadata": {},
   "outputs": [
    {
     "name": "stdout",
     "output_type": "stream",
     "text": [
      "RCQA: 3695, Option: 3696\n"
     ]
    }
   ],
   "source": [
    "r_count = 0\n",
    "o_count = 0\n",
    "\n",
    "for row in train_fdata['train']:\n",
    "    if 'option' in row['qid']:\n",
    "        o_count += 1\n",
    "    else:\n",
    "        r_count += 1\n",
    "\n",
    "print(f'RCQA: {r_count}, Option: {o_count}')\n"
   ]
  }
 ],
 "metadata": {
  "kernelspec": {
   "display_name": "cut",
   "language": "python",
   "name": "python3"
  },
  "language_info": {
   "codemirror_mode": {
    "name": "ipython",
    "version": 3
   },
   "file_extension": ".py",
   "mimetype": "text/x-python",
   "name": "python",
   "nbconvert_exporter": "python",
   "pygments_lexer": "ipython3",
   "version": "3.10.13"
  }
 },
 "nbformat": 4,
 "nbformat_minor": 2
}
