{
 "cells": [
  {
   "cell_type": "code",
   "execution_count": 26,
   "metadata": {},
   "outputs": [
    {
     "name": "stderr",
     "output_type": "stream",
     "text": [
      "/tmp/ipykernel_1583596/97023684.py:23: FutureWarning: ChainedAssignmentError: behaviour will change in pandas 3.0!\n",
      "You are setting values through chained assignment. Currently this works in certain cases, but when using Copy-on-Write (which will become the default behaviour in pandas 3.0) this will never work to update the original DataFrame or Series, because the intermediate object on which we are setting values will behave as a copy.\n",
      "A typical example is when you are setting values in a column of a DataFrame, like:\n",
      "\n",
      "df[\"col\"][row_indexer] = value\n",
      "\n",
      "Use `df.loc[row_indexer, \"col\"] = values` instead, to perform the assignment in a single step and ensure this keeps updating the original `df`.\n",
      "\n",
      "See the caveats in the documentation: https://pandas.pydata.org/pandas-docs/stable/user_guide/indexing.html#returning-a-view-versus-a-copy\n",
      "\n",
      "  data['answers'][i] = func(data.iloc[i])\n"
     ]
    }
   ],
   "source": [
    "# 각 옵션 칸에 option = option + augmented_option + augmented_context\n",
    "\n",
    "import json \n",
    "import pandas as pd\n",
    "\n",
    "def load_jsonl(file_path):\n",
    "    return pd.read_json(file_path, lines=True)\n",
    "\n",
    "fname = 'RULE_mainq_AMR-LDA.jsonl'\n",
    "\n",
    "data = load_jsonl(fname)\n",
    "\n",
    "# data['answers']의 각 원소[i]에다가 augmented_answers[i]와 augmented_context를 합쳐서 넣어주기ㅏ\n",
    "def func(row):\n",
    "    context_list = [row['augmented_context'] for i in range(len(row['answers']))]\n",
    "    # row['answers']의 각 element에다가 augmented_answers와 augmented_context의 각 element를 더하기\n",
    "    for i in range(len(row['answers'])):\n",
    "        if row['answers'][i][-1] not in ['.', '!', '?']:\n",
    "            row['answers'][i] += '.'\n",
    "    return [f\"{row['answers'][i]} {row['augmented_answers'][i]} {context_list[i]}\" for i in range(len(row['answers']))]\n",
    "\n",
    "for i in range(len(data)):\n",
    "    data['answers'][i] = func(data.iloc[i])\n",
    "    \n",
    "\n",
    "data.to_json('RULE_mainq_AMR-LDA_augmented.jsonl', orient='records', lines=True)"
   ]
  },
  {
   "cell_type": "code",
   "execution_count": 25,
   "metadata": {},
   "outputs": [
    {
     "name": "stderr",
     "output_type": "stream",
     "text": [
      "/tmp/ipykernel_1583596/1353278695.py:11: FutureWarning: ChainedAssignmentError: behaviour will change in pandas 3.0!\n",
      "You are setting values through chained assignment. Currently this works in certain cases, but when using Copy-on-Write (which will become the default behaviour in pandas 3.0) this will never work to update the original DataFrame or Series, because the intermediate object on which we are setting values will behave as a copy.\n",
      "A typical example is when you are setting values in a column of a DataFrame, like:\n",
      "\n",
      "df[\"col\"][row_indexer] = value\n",
      "\n",
      "Use `df.loc[row_indexer, \"col\"] = values` instead, to perform the assignment in a single step and ensure this keeps updating the original `df`.\n",
      "\n",
      "See the caveats in the documentation: https://pandas.pydata.org/pandas-docs/stable/user_guide/indexing.html#returning-a-view-versus-a-copy\n",
      "\n",
      "  data['answers'][i] = func(data.iloc[i])\n"
     ]
    }
   ],
   "source": []
  },
  {
   "cell_type": "code",
   "execution_count": 21,
   "metadata": {},
   "outputs": [
    {
     "data": {
      "text/plain": [
       "['Whether the herb can thrive in soil that does not have high concentrations of the toxic metals  Species of herbs are not among the closely related groups that thrive in soils with high concentrations of metals nontoxic to most other plants.',\n",
       " 'Whether growing the herb in soil with high concentrations of the metals will, over time, reduce their concentrations in the soil  Species of herbs are not among the closely related groups that thrive in soils with high concentrations of metals nontoxic to most other plants.',\n",
       " \"Whether the herb's high level of histidine production is associated with an unusually low level of production of some other amino acid  Species of herbs are not among the closely related groups that thrive in soils with high concentrations of metals nontoxic to most other plants.\",\n",
       " 'Whether others of the closely related group of plants also produce histidine in large quantities  Species of herbs are not among the closely related groups that thrive in soils with high concentrations of metals nontoxic to most other plants.']"
      ]
     },
     "execution_count": 21,
     "metadata": {},
     "output_type": "execute_result"
    }
   ],
   "source": [
    "data.answers[940]"
   ]
  }
 ],
 "metadata": {
  "kernelspec": {
   "display_name": "reclor",
   "language": "python",
   "name": "python3"
  },
  "language_info": {
   "codemirror_mode": {
    "name": "ipython",
    "version": 3
   },
   "file_extension": ".py",
   "mimetype": "text/x-python",
   "name": "python",
   "nbconvert_exporter": "python",
   "pygments_lexer": "ipython3",
   "version": "3.12.2"
  }
 },
 "nbformat": 4,
 "nbformat_minor": 2
}
